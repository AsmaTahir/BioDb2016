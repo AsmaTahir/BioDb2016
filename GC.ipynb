{
 "cells": [
  {
   "cell_type": "code",
   "execution_count": null,
   "metadata": {
    "collapsed": true
   },
   "outputs": [],
   "source": [
    "inputFile = open('rosalind_gc.txt')                                              \n",
    "\n",
    "countc = 0                                                 \n",
    "countg = 0\n",
    "counta=0\n",
    "countt=0\n",
    "lab = \"\"\n",
    "gca = 0.0\n",
    "length=0\n",
    "header= \"\"                                              \n",
    "finalgc=0\n",
    "\n",
    "for line in inputFile:\n",
    "    if line.startswith('>'):                                \n",
    "        if length!=0:                                   \n",
    "            gca=((countc+countg)/length)*100  \n",
    "            if gca>finalgc:                            \n",
    "                header=lab\n",
    "                finalgc=gca\n",
    "            countc=0                                     \n",
    "            countg=0\n",
    "            length=0\n",
    "        lab=line[1:14]\n",
    "    else:                                                   \n",
    "        countc=countc+line.count('C')\n",
    "        countg=countg+line.count('G')\n",
    "        counta=counta+line.count('A')\n",
    "        countt=countt+line.count('T')\n",
    "        length=length+len(str.strip(line))\n",
    "        print(length)\n",
    "\n",
    "gca=((countc+countg)/length)*100              \n",
    "if gca>finalgc:\n",
    "    header=lab\n",
    "    finalgc=gca\n",
    "\n",
    "print (header)                                            \n",
    "print (gca)\n",
    "\n",
    "inputFile.close()"
   ]
  }
 ],
 "metadata": {
  "anaconda-cloud": {},
  "kernelspec": {
   "display_name": "Python [Root]",
   "language": "python",
   "name": "Python [Root]"
  },
  "language_info": {
   "codemirror_mode": {
    "name": "ipython",
    "version": 3
   },
   "file_extension": ".py",
   "mimetype": "text/x-python",
   "name": "python",
   "nbconvert_exporter": "python",
   "pygments_lexer": "ipython3",
   "version": "3.5.2"
  }
 },
 "nbformat": 4,
 "nbformat_minor": 0
}

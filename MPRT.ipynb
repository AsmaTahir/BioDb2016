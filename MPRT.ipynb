{
 "cells": [
  {
   "cell_type": "code",
   "execution_count": 5,
   "metadata": {
    "collapsed": false
   },
   "outputs": [
    {
     "name": "stdout",
     "output_type": "stream",
     "text": [
      "P01047_KNL2_BOVIN\n",
      "47 87 168 169 197 204 280 \n",
      "P19835_BAL_HUMAN\n",
      "207 \n",
      "B6J655\n",
      "\n",
      "Q4FZD7\n",
      "528 \n",
      "A1X8C2\n",
      "\n",
      "P14210_HGF_HUMAN\n",
      "294 402 566 653 \n",
      "P09136\n",
      "\n",
      "P02749_APOH_HUMAN\n",
      "162 183 193 253 \n",
      "P22891_PRTZ_HUMAN\n",
      "99 225 233 306 332 \n",
      "Q90X23\n",
      "\n",
      "P98119_URT1_DESRO\n",
      "153 398 \n",
      "P13473_LMP2_HUMAN\n",
      "32 38 49 58 75 101 123 179 229 242 257 275 300 307 317 356 \n",
      "Q8PV50\n",
      "188 195 \n"
     ]
    }
   ],
   "source": [
    "#import uniprot as uni\n",
    "#print (uni.map('P07204_TRBM_HUMAN', f='ACC', t='sequence'))\n",
    "#print (uni.retrieve(['P31749','Q16204']))\n",
    "#print (uni.retrieve('P07204_TRBM_HUMAN'))\n",
    "\n",
    "#import urllib\n",
    "#code = \"Q7Z7W5\"\n",
    "#data = urllib.open(\"http://www.uniprot.org/uniprot/\" + code + \".txt\").read()\n",
    "#print(data)\n",
    "\n",
    "#from scripts import ReadFASTA\n",
    "\n",
    "#protein_url = 'http://www.uniprot.org/uniprot/'+protein_name.strip()+'.fasta'\n",
    "#protein_fasta = ReadFASTA(protein_url)\n",
    "\n",
    "\n",
    "from urllib.request import urlopen\n",
    "import re\n",
    "\n",
    "filename=\"proteins.txt\"\n",
    "\n",
    "proteins=[]\n",
    "with open(filename) as fp:\n",
    "       for line in fp:\n",
    "            proteins.append(line)\n",
    "dict_str={}            \n",
    "for x in proteins:\n",
    "    x=x.strip()\n",
    "    #print(x.strip())\n",
    "    url = \"http://www.uniprot.org/uniprot/\"+x+\".fasta\"\n",
    "    response = urlopen(url)\n",
    "    fasta = response.read().decode(\"utf-8\", \"ignore\")\n",
    "    #print(fasta)\n",
    "    dict_str[x]=fasta\n",
    "    #print(fasta.replace('\\n',''))\n",
    "\n",
    "final_dict={}\n",
    "\n",
    "for x in dict_str:\n",
    "    #print(x)\n",
    "    #print('\\n')\n",
    "    words = dict_str[x].split(\"\\n\")   \n",
    "    complete=''\n",
    "    for y in words:\n",
    "        #print('line',y)\n",
    "        if(not y.startswith( '>' )):\n",
    "            complete=complete+y.replace('\\n','')\n",
    "    final_dict[x]=complete\n",
    "    #print(complete)\n",
    "    #dict_str[x]=fasta\n",
    "    \n",
    "for idx in final_dict:\n",
    "    z=final_dict[idx]\n",
    "    p = re.compile('N{P}[ST]{P}')\n",
    "    m = p.match(z)\n",
    "    #if m:\n",
    "        #print ('Match found: ', m.group())\n",
    "    #else:\n",
    "        #print ('No match')\n",
    "    \n",
    "    locations = ''\n",
    "    for i in range(0, len(z)-4+1):\n",
    "    # Check for the N-glycosylation motif is written as N{P}[ST]{P}.\n",
    "        if (z[i] == 'N') and (z[i+1] != 'P') and (z[i+2] in ['S','T']) and (z[i+3] != 'P'):\n",
    "            locations += str(i+1)+' '\n",
    "        #print(z[i],z[i+1])\n",
    "        #if (z[i] == 'N') and (z[i+1] != 'P'):\n",
    "         #    locations += str(i+1)+' '\n",
    "    print(idx)\n",
    "    print(locations)\n",
    "\n"
   ]
  },
  {
   "cell_type": "code",
   "execution_count": null,
   "metadata": {
    "collapsed": true
   },
   "outputs": [],
   "source": []
  }
 ],
 "metadata": {
  "anaconda-cloud": {},
  "kernelspec": {
   "display_name": "Python [Root]",
   "language": "python",
   "name": "Python [Root]"
  },
  "language_info": {
   "codemirror_mode": {
    "name": "ipython",
    "version": 3
   },
   "file_extension": ".py",
   "mimetype": "text/x-python",
   "name": "python",
   "nbconvert_exporter": "python",
   "pygments_lexer": "ipython3",
   "version": "3.5.2"
  }
 },
 "nbformat": 4,
 "nbformat_minor": 0
}

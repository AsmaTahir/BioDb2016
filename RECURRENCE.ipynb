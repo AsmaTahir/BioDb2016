{
 "cells": [
  {
   "cell_type": "code",
   "execution_count": null,
   "metadata": {
    "collapsed": true
   },
   "outputs": [],
   "source": [
    "def recurrence(month,rabbit):\n",
    "    if month==1:\n",
    "        return 1\n",
    "    elif month==2:\n",
    "        return rabbit\n",
    "    i=recurrence(month-1,rabbit)\n",
    "    j=recurrence(month-2,rabbit)\n",
    "    \n",
    "    if month<=4 or month>=40:\n",
    "        return i+j\n",
    "    \n",
    "    else:\n",
    "        return (i+(j+rabbit))\n",
    "    \n",
    "recurrence(5,3)"
   ]
  }
 ],
 "metadata": {
  "anaconda-cloud": {},
  "kernelspec": {
   "display_name": "Python [Root]",
   "language": "python",
   "name": "Python [Root]"
  },
  "language_info": {
   "codemirror_mode": {
    "name": "ipython",
    "version": 3
   },
   "file_extension": ".py",
   "mimetype": "text/x-python",
   "name": "python",
   "nbconvert_exporter": "python",
   "pygments_lexer": "ipython3",
   "version": "3.5.2"
  }
 },
 "nbformat": 4,
 "nbformat_minor": 0
}

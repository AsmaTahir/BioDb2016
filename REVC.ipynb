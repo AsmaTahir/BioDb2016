{
 "cells": [
  {
   "cell_type": "code",
   "execution_count": 1,
   "metadata": {
    "collapsed": false
   },
   "outputs": [
    {
     "data": {
      "text/plain": [
       "'TCCGGGTTTA'"
      ]
     },
     "execution_count": 1,
     "metadata": {},
     "output_type": "execute_result"
    }
   ],
   "source": [
    "def complementary(s):\n",
    "    list1=list(s)\n",
    "    for i in range(len(list1)):\n",
    "        if i==0 or i==(len(list1)-1):\n",
    "            continue\n",
    "        elif list1[i]=='A':\n",
    "            list1[i]='T'\n",
    "        elif list1[i]=='C':\n",
    "            list1[i]='G'\n",
    "        elif list1[i]=='T':\n",
    "            list1[i]='A'\n",
    "        elif list1[i]=='G':\n",
    "            list1[i]='C'\n",
    "    str1 = ''.join(list1)\n",
    "    str2=str1[::-1]\n",
    "    return str2\n",
    "\n",
    "string=\"AAAACCCGGT\"\n",
    "complementary(string)"
   ]
  },
  {
   "cell_type": "code",
   "execution_count": null,
   "metadata": {
    "collapsed": true
   },
   "outputs": [],
   "source": []
  }
 ],
 "metadata": {
  "kernelspec": {
   "display_name": "Python [Root]",
   "language": "python",
   "name": "Python [Root]"
  },
  "language_info": {
   "codemirror_mode": {
    "name": "ipython",
    "version": 3
   },
   "file_extension": ".py",
   "mimetype": "text/x-python",
   "name": "python",
   "nbconvert_exporter": "python",
   "pygments_lexer": "ipython3",
   "version": "3.5.2"
  }
 },
 "nbformat": 4,
 "nbformat_minor": 0
}

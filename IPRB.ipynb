{
 "cells": [
  {
   "cell_type": "code",
   "execution_count": null,
   "metadata": {
    "collapsed": true
   },
   "outputs": [],
   "source": [
    "dom=25\n",
    "het=22\n",
    "rec=21\n",
    "final=dom + het + rec\n",
    "\n",
    "rec_output=(rec/total)*((rec-1)/(total-1))\n",
    "het_output=(het/total)*((het-1)/(total-1))\n",
    "hrec_output=(het/total)*(rec/(total-1))+(rec/total)*(het/(total-1))\n",
    "\n",
    "final_output=rec_output+het_output*1/4+hrec_output*1/2\n",
    "print(1-final_output)"
   ]
  }
 ],
 "metadata": {
  "anaconda-cloud": {},
  "kernelspec": {
   "display_name": "Python [Root]",
   "language": "python",
   "name": "Python [Root]"
  },
  "language_info": {
   "codemirror_mode": {
    "name": "ipython",
    "version": 3
   },
   "file_extension": ".py",
   "mimetype": "text/x-python",
   "name": "python",
   "nbconvert_exporter": "python",
   "pygments_lexer": "ipython3",
   "version": "3.5.2"
  }
 },
 "nbformat": 4,
 "nbformat_minor": 0
}

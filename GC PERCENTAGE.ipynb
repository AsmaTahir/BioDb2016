{
 "cells": [
  {
   "cell_type": "code",
   "execution_count": null,
   "metadata": {
    "collapsed": true
   },
   "outputs": [],
   "source": [
    "def percentage(s):\n",
    "    counta=0\n",
    "    countc=0\n",
    "    countg=0\n",
    "    countt=0\n",
    "    header=s[1:14]\n",
    "    for i in range(len(s)):\n",
    "        if s[i]=='A':\n",
    "            counta=counta+1\n",
    "        elif s[i]=='C':\n",
    "            countc=countc+1\n",
    "        elif s[i]=='G':\n",
    "            countg=countg+1\n",
    "        elif s[i]=='T':\n",
    "            countt=countt+1\n",
    "    sum1=(countc+countg)/(counta+countc+countg+countt)\n",
    "    percent=sum1*100\n",
    "    return header,percent\n",
    "\n",
    "seq='''>Rosalind_5959\n",
    "CCATCGGTAGCGCATCCTTAGTCCAATTAAGTCCCTATCCAGGCGCTCCGCCGAAGGTCT\n",
    "ATATCCATTTGTCAGCAGACACGC\n",
    ">Rosalind_0808\n",
    "CCACCCTCGTGGTATGGCTAGGCATTCAGGAACCGGAGAACGCTTCAGACCAGCCCGGAC\n",
    "TGGGAACCTGCGGGCAGTAGGTGGAAT'''\n",
    "print(*percentage(seq), sep=\"\\n\")"
   ]
  }
 ],
 "metadata": {
  "anaconda-cloud": {},
  "kernelspec": {
   "display_name": "Python [Root]",
   "language": "python",
   "name": "Python [Root]"
  },
  "language_info": {
   "codemirror_mode": {
    "name": "ipython",
    "version": 3
   },
   "file_extension": ".py",
   "mimetype": "text/x-python",
   "name": "python",
   "nbconvert_exporter": "python",
   "pygments_lexer": "ipython3",
   "version": "3.5.2"
  }
 },
 "nbformat": 4,
 "nbformat_minor": 0
}

{
 "cells": [
  {
   "cell_type": "code",
   "execution_count": 1,
   "metadata": {
    "collapsed": false
   },
   "outputs": [
    {
     "name": "stdout",
     "output_type": "stream",
     "text": [
      "247 241 270 231\n"
     ]
    }
   ],
   "source": [
    "string=\"TATGGCCGGAACCCCGCGAATGGAATTACCGTCGATGAAGGGGCGGCGCTTCCCATCCAGAATATAGGATCGCGTCAAATGAAATTGTACTATGAGGTGATGGGTGACCTCCCCGGTTGCTCGCATGGAGATCGGTGGACGTGACTCAATCAATTTGCGACGTGGAATCTTGTGTGGCATAACCCCAGACGCATAATGTACTATATCGCGTGTACGGGCCCCCGACTCCATTTGCATGACATTTCAAGGACAGGCGCGCGCAAAGATAAGGCCTGGTCGACAATTGCTGACGCGAAGTTTGGTTGGGGGTCACTTGAATGTTCCTTAACGCCGTGGTACGCTCTCTCTACCAGAGGTCCGGAGAACTGGGTTGCCGATTTTCTCCCTGTGTGCCGGGGTGGATCCAAAGACAGAACGGTAGACGCCGATCTCCCGACTGTCGCTCAACACATGGCAAGTAGGAAGCAGACAACTCCTGGCTAGGGAGATCGTGGCACAAACAGTAACTTAAAGTTTCCTCTACAAGCGACAGGGCCCACTCGTCAGCCAAGGATTGCGAAACGATACCGGATAACACTCTGTGCCATATAGGAAATGGCTTATGATGTCAAACTTGTAGAGACGTATTTATTGTCTTCAAAATGGGTGCCTTAGCCTTACCGTGGGTAAACTAGGACTTGACAGTTGCCTGCGTACTGTTGTTACAAGCCCCGCAGGATGACAATACGGTTGCAGAACGTCGGGACCTAGGGTTTGAATGGCCAAGAGACCATGTAGGGCGAACAGCAACTAAGAGACTCGTTATGCTGTATAAGTTCGCTACGATTCATCTAGGCGTCTGGGTATGAGTGGCCCATACACGCAGAGTCCACTCGCACATGGGGCATACCTACGAATCTTTAGGCAACGATCTGCCAGGGCCTCGCAGGCTAAGTGAGACCTGCTTCTTCAGTGTGCCTCGGATTTACCCAAAGGTTGCAGGCACTATT\"\n",
    "def dna(s):\n",
    "    counta=0\n",
    "    countc=0\n",
    "    countg=0\n",
    "    countt=0\n",
    "    for i in range(len(s)):\n",
    "        if s[i]=='A':\n",
    "            counta=counta+1\n",
    "        elif s[i]=='C':\n",
    "            countc=countc+1\n",
    "        elif s[i]=='G':\n",
    "            countg=countg+1\n",
    "        elif s[i]=='T':\n",
    "            countt=countt+1\n",
    "    list1=[counta,countc,countg,countt]\n",
    "    return (list1)\n",
    "\n",
    "\n",
    "print(*dna(string))"
   ]
  },
  {
   "cell_type": "code",
   "execution_count": null,
   "metadata": {
    "collapsed": true
   },
   "outputs": [],
   "source": []
  }
 ],
 "metadata": {
  "anaconda-cloud": {},
  "kernelspec": {
   "display_name": "Python [Root]",
   "language": "python",
   "name": "Python [Root]"
  },
  "language_info": {
   "codemirror_mode": {
    "name": "ipython",
    "version": 3
   },
   "file_extension": ".py",
   "mimetype": "text/x-python",
   "name": "python",
   "nbconvert_exporter": "python",
   "pygments_lexer": "ipython3",
   "version": "3.5.2"
  }
 },
 "nbformat": 4,
 "nbformat_minor": 0
}
